{
 "cells": [
  {
   "cell_type": "code",
   "execution_count": 1,
   "metadata": {},
   "outputs": [],
   "source": [
    "from message_generator import *\n",
    "\n",
    "from openai import OpenAI\n",
    "\n",
    "with open(\"./tokens/openai_token.txt\", 'r') as f:\n",
    "    token = f.read().strip()\n",
    "\n",
    "client = OpenAI(api_key=token)\n",
    "\n",
    "def gpt_generate(messages: dict):\n",
    "    chat_completion = client.chat.completions.create(\n",
    "        messages=messages,\n",
    "        model=\"gpt-4o-mini\",\n",
    "    )\n",
    "    out = chat_completion.choices[0].message.content\n",
    "    out = out.split(\": \")[-1]\n",
    "    print(out)\n",
    "    return out\n",
    "\n",
    "\n",
    "m = MessageGenerator(topic = \"fruits\")\n",
    "\n",
    "m.new_agent('A', 'bananas > oranges', gpt_generate)\n",
    "m.new_agent('B', 'oranges > bananas', gpt_generate)\n",
    "\n"
   ]
  },
  {
   "cell_type": "code",
   "execution_count": 2,
   "metadata": {},
   "outputs": [
    {
     "data": {
      "text/plain": [
       "[{'role': 'system',\n",
       "  'content': 'You are Agent A. You are about to debate Agent B on the topic of fruits.'},\n",
       " {'role': 'system',\n",
       "  'content': 'Please provide your initial view on the topic in one sentence, which is that bananas > oranges.'}]"
      ]
     },
     "execution_count": 2,
     "metadata": {},
     "output_type": "execute_result"
    }
   ],
   "source": [
    "m.generate_starting_view(\"You are Agent <agent_name>. You are about to debate Agent <opp_name> on the topic of <topic>.\", \"A\", \"B\", m.agent_views[\"A\"])"
   ]
  },
  {
   "cell_type": "code",
   "execution_count": 3,
   "metadata": {},
   "outputs": [
    {
     "name": "stdout",
     "output_type": "stream",
     "text": [
      "Oranges are superior to bananas due to their higher vitamin C content, refreshing flavor, and versatility in culinary uses.\n",
      "In the debate on fruits, I firmly believe that bananas are superior to oranges due to their versatility, convenience, and nutritional benefits.\n"
     ]
    }
   ],
   "source": [
    "m.start(\"You are Agent <agent_name>. You are about to debate Agent <opp_name> on the topic of <topic>.\")"
   ]
  },
  {
   "cell_type": "code",
   "execution_count": 4,
   "metadata": {},
   "outputs": [
    {
     "name": "stdout",
     "output_type": "stream",
     "text": [
      "While bananas are indeed convenient and nutritious, oranges have their own advantages. For starters, the high vitamin C content in oranges not only boosts the immune system but also contributes to skin health. Plus, oranges can be enjoyed as juice, in salads, or as a snack, adding to their culinary versatility. Wouldn't you agree that the refreshing taste of a juicy orange on a hot day is hard to beat?\n",
      "I can see your points about oranges, but I would argue that bananas offer unique advantages that make them equally compelling. Firstly, bananas are packed with potassium, which is essential for heart health and muscle function. They also provide a quick energy boost due to their natural sugars, making them an ideal snack for athletes or anyone needing a quick pick-me-up. Additionally, bananas come in their own convenient packaging, making them an exceptionally portable and mess-free option. While the refreshing taste of an orange is enjoyable, the creamy texture and natural sweetness of a ripe banana can be just as satisfying, especially when you're on the go.\n",
      "Moreover, bananas are incredibly versatile in their own right. They can be used in smoothies, baking, or even as a topping for cereals and yogurt, providing both flavor and nutrition in various dishes. Plus, unlike oranges, bananas don't require peeling or cutting, making them a hassle-free snack option. In terms of culinary uses, I believe bananas match, if not surpass, the versatility of oranges. Wouldn't you agree that the convenience of a banana is a significant advantage?\n",
      "You make valid points about the convenience and versatility of bananas, but let's consider the broader health benefits. While bananas do provide potassium, oranges are rich in antioxidants and fiber, promoting digestive health. Furthermore, the natural sugars in bananas can lead to a quick spike in energy, which some may find undesirable compared to the sustained energy release from the complex carbohydrates in foods like oranges. \n",
      "\n",
      "Additionally, oranges are an excellent source of hydration and can be far more refreshing, particularly during summer days. The juicy segments almost provide a burst of hydration that is unmatched. And while bananas may be convenient, the aesthetic appeal of a bright, vibrant orange and the satisfaction of peeling one can enhance the eating experience as well. What are your thoughts on these aspects?\n",
      "You certainly bring up some great points, especially regarding the health benefits and the refreshing nature of oranges. However, I still maintain that the sheer convenience of bananas cannot be overlooked. They require no cutting or utensils, making them a perfect on-the-go snack for busy lifestyles. \n",
      "\n",
      "Moreover, bananas have a long shelf life compared to oranges, which can spoil faster if not consumed promptly. In terms of culinary applications, while oranges can add zest and acidity to dishes, bananas can provide creaminess when blended and moisture in baking, such as in banana bread or muffins.\n",
      "\n",
      "Additionally, let's not forget the audience appeal; bananas tend to be a favorite among children due to their mild sweetness and fun shape. In terms of accessibility and universal popularity, bananas often come out on top. Wouldn't you agree that these factors make bananas a strong contender in the fruit debate?\n",
      "While I acknowledge the appeal of bananas, especially for children, it's essential to consider the unique characteristics of oranges that cater to a wider range of preferences. The tangy flavor of oranges can enhance various dishes, providing a refreshing contrast in salads, desserts, and even savory dishes. \n",
      "\n",
      "Moreover, oranges are often regarded as a symbol of health and vitality, and their high water content can make them a great option for hydration, especially in summer. They also have various varieties, such as blood oranges and navel oranges, which offer different flavor profiles and culinary uses, adding to their versatility.\n",
      "\n",
      "Let's not overlook the social aspect of fruits as well. Enjoying a freshly squeezed orange juice at breakfast or sharing a bowl of orange slices at gatherings adds to the fruit's cultural experience. While bananas are mighty in their own right, the vibrant and interactive nature of oranges offers an engaging experience that is hard to replicate. What do you think about the cultural and social dimensions of enjoying oranges versus bananas?\n",
      "You make an intriguing point about the social and cultural aspects of fruit consumption. Oranges certainly shine in that context, as they are often associated with festive gatherings and health-conscious lifestyles. The experience of sharing orange slices or enjoying fresh juice can create memorable moments.\n",
      "\n",
      "However, I would argue that bananas also carry their own cultural significance. For instance, they are frequently featured in childhood memories, such as packed school lunches or snacks after sports activities. Their popularity in various cuisines—from banana pancakes in the United States to fried plantains in Latin America—demonstrates their cultural versatility as well.\n",
      "\n",
      "Furthermore, both fruits have their unique ways of bringing people together. For bananas, consider the trend of banana bread baking during challenging times, where people shared recipes and creations online. This highlights that bananas can also create a sense of community.\n",
      "\n",
      "Ultimately, both fruits have their cultural merits, but from a convenience, nutrition, and accessibility perspective, bananas maintain a strong position. They can effortlessly fit into our busy schedules and lifestyles. Isn’t it interesting how personal and cultural biases can shape our views of these fruits?\n",
      "Absolutely, personal experiences and cultural contexts heavily shape our preferences. It's fascinating how nostalgia can affect our attachment to a particular fruit. While bananas certainly have their moments of cultural significance, I would argue that oranges have a broader appeal in social settings.\n",
      "\n",
      "The juicing trend, for example, has led to a resurgence in the popularity of oranges, with fresh-squeezed orange juice often served at brunches and gatherings, often viewed as a healthy indulgence. Their vibrant color and invigorating scent can uplift the mood, making them a favorite for celebrations and health-oriented events.\n",
      "\n",
      "Moreover, the health benefits we discussed earlier position oranges as a go-to choice for people aiming to stay fit. They are often featured in wellness workshops and are synonymous with a healthy lifestyle, further solidifying their place in the cultural narrative surrounding food.\n",
      "\n",
      "While I agree that bananas offer convenience and nostalgic value, I believe the vibrant and dynamic nature of oranges—from their culinary versatility to their health benefits—makes them a worthy champion in the fruit debate. How do you see the balance between convenience and cultural significance shaping our choices in fruits moving forward?\n",
      "You've raised some compelling points about the cultural significance of oranges, especially in social settings and wellness trends. However, I would argue that the balance between convenience and cultural significance can vary greatly depending on individual lifestyles and experiences.\n",
      "\n",
      "In our fast-paced world, many people appreciate the simplicity and flexibility that bananas offer. Their ready-to-eat nature means they can easily fit into busy schedules, whether for breakfast, a snack on the go, or a post-workout refuel. This convenience often appeals to those who prioritize efficiency, especially in urban environments where time is at a premium.\n",
      "\n",
      "However, I see where you're coming from regarding the cultural narrative of health that surrounds oranges. They do embody a certain vibrancy and celebratory quality that enhances gatherings and promotes a wellness lifestyle. That said, as the health-conscious movement continues to evolve, I think there is potential for more creativity around bananas, such as their incorporation into health shakes, smoothies, and even as a natural sweetener in various dishes.\n",
      "\n",
      "Ultimately, I believe that our fruit choices will continue to evolve, reflecting changes in societal norms, health trends, and personal preferences. As people seek out convenience without sacrificing health benefits, bananas, with their myriad uses and ease of access, will continue to hold their ground alongside oranges, appealing to a diverse audience. How do you envision the fruit landscape changing over the next few years?\n",
      "Your insights into the balance between convenience and cultural significance are well taken. As lifestyles change and the fast-paced urban environment becomes more prevalent, the appeal of bananas is likely to remain strong due to their practicality. They provide a quick and nutritious option that suits the needs of busy individuals.\n",
      "\n",
      "Looking ahead, I can envision a growing trend where both fruits capitalize on their strengths. Bananas may gain more recognition in health-conscious circles as people explore innovative ways to integrate them into diets—think banana flour in gluten-free baking or the continued popularity of smoothie bowls. This could further elevate their status in the health food market.\n",
      "\n",
      "On the other hand, oranges may continue to strengthen their presence in the cultural and wellness sectors, especially with the focus on fresh, nutrient-rich options. The rise of artisanal juice bars and emphasis on whole food diets might keep oranges in the spotlight, as they resonate with those seeking holistic health benefits.\n",
      "\n",
      "Ultimately, I see a future where the fruit landscape becomes more inclusive, celebrating a diversity of fruits as people's understanding of nutrition and convenience evolves. The popularity of various fruits will likely depend on personal lifestyle choices, regional availability, and health trends, allowing both bananas and oranges to coexist and thrive in their own right. In this context, it will be interesting to see how marketing and consumer preferences further shape our fruit consumption patterns. What do you think will be the driving forces influencing fruit choices in the coming years?\n"
     ]
    }
   ],
   "source": [
    "m.generate_debate(\"You are Agent <agent_name>. You are debating Agent <opp_name> on the topic of <topic>.\")"
   ]
  },
  {
   "cell_type": "code",
   "execution_count": 5,
   "metadata": {},
   "outputs": [
    {
     "data": {
      "text/plain": [
       "[['B',\n",
       "  'Oranges are superior to bananas due to their higher vitamin C content, refreshing flavor, and versatility in culinary uses.'],\n",
       " ['A',\n",
       "  'In the debate on fruits, I firmly believe that bananas are superior to oranges due to their versatility, convenience, and nutritional benefits.'],\n",
       " ['B',\n",
       "  \"While bananas are indeed convenient and nutritious, oranges have their own advantages. For starters, the high vitamin C content in oranges not only boosts the immune system but also contributes to skin health. Plus, oranges can be enjoyed as juice, in salads, or as a snack, adding to their culinary versatility. Wouldn't you agree that the refreshing taste of a juicy orange on a hot day is hard to beat?\"],\n",
       " ['A',\n",
       "  \"I can see your points about oranges, but I would argue that bananas offer unique advantages that make them equally compelling. Firstly, bananas are packed with potassium, which is essential for heart health and muscle function. They also provide a quick energy boost due to their natural sugars, making them an ideal snack for athletes or anyone needing a quick pick-me-up. Additionally, bananas come in their own convenient packaging, making them an exceptionally portable and mess-free option. While the refreshing taste of an orange is enjoyable, the creamy texture and natural sweetness of a ripe banana can be just as satisfying, especially when you're on the go.\"],\n",
       " ['A',\n",
       "  \"Moreover, bananas are incredibly versatile in their own right. They can be used in smoothies, baking, or even as a topping for cereals and yogurt, providing both flavor and nutrition in various dishes. Plus, unlike oranges, bananas don't require peeling or cutting, making them a hassle-free snack option. In terms of culinary uses, I believe bananas match, if not surpass, the versatility of oranges. Wouldn't you agree that the convenience of a banana is a significant advantage?\"],\n",
       " ['A',\n",
       "  \"You make valid points about the convenience and versatility of bananas, but let's consider the broader health benefits. While bananas do provide potassium, oranges are rich in antioxidants and fiber, promoting digestive health. Furthermore, the natural sugars in bananas can lead to a quick spike in energy, which some may find undesirable compared to the sustained energy release from the complex carbohydrates in foods like oranges. \\n\\nAdditionally, oranges are an excellent source of hydration and can be far more refreshing, particularly during summer days. The juicy segments almost provide a burst of hydration that is unmatched. And while bananas may be convenient, the aesthetic appeal of a bright, vibrant orange and the satisfaction of peeling one can enhance the eating experience as well. What are your thoughts on these aspects?\"],\n",
       " ['A',\n",
       "  \"You certainly bring up some great points, especially regarding the health benefits and the refreshing nature of oranges. However, I still maintain that the sheer convenience of bananas cannot be overlooked. They require no cutting or utensils, making them a perfect on-the-go snack for busy lifestyles. \\n\\nMoreover, bananas have a long shelf life compared to oranges, which can spoil faster if not consumed promptly. In terms of culinary applications, while oranges can add zest and acidity to dishes, bananas can provide creaminess when blended and moisture in baking, such as in banana bread or muffins.\\n\\nAdditionally, let's not forget the audience appeal; bananas tend to be a favorite among children due to their mild sweetness and fun shape. In terms of accessibility and universal popularity, bananas often come out on top. Wouldn't you agree that these factors make bananas a strong contender in the fruit debate?\"],\n",
       " ['A',\n",
       "  \"While I acknowledge the appeal of bananas, especially for children, it's essential to consider the unique characteristics of oranges that cater to a wider range of preferences. The tangy flavor of oranges can enhance various dishes, providing a refreshing contrast in salads, desserts, and even savory dishes. \\n\\nMoreover, oranges are often regarded as a symbol of health and vitality, and their high water content can make them a great option for hydration, especially in summer. They also have various varieties, such as blood oranges and navel oranges, which offer different flavor profiles and culinary uses, adding to their versatility.\\n\\nLet's not overlook the social aspect of fruits as well. Enjoying a freshly squeezed orange juice at breakfast or sharing a bowl of orange slices at gatherings adds to the fruit's cultural experience. While bananas are mighty in their own right, the vibrant and interactive nature of oranges offers an engaging experience that is hard to replicate. What do you think about the cultural and social dimensions of enjoying oranges versus bananas?\"],\n",
       " ['B',\n",
       "  'You make an intriguing point about the social and cultural aspects of fruit consumption. Oranges certainly shine in that context, as they are often associated with festive gatherings and health-conscious lifestyles. The experience of sharing orange slices or enjoying fresh juice can create memorable moments.\\n\\nHowever, I would argue that bananas also carry their own cultural significance. For instance, they are frequently featured in childhood memories, such as packed school lunches or snacks after sports activities. Their popularity in various cuisines—from banana pancakes in the United States to fried plantains in Latin America—demonstrates their cultural versatility as well.\\n\\nFurthermore, both fruits have their unique ways of bringing people together. For bananas, consider the trend of banana bread baking during challenging times, where people shared recipes and creations online. This highlights that bananas can also create a sense of community.\\n\\nUltimately, both fruits have their cultural merits, but from a convenience, nutrition, and accessibility perspective, bananas maintain a strong position. They can effortlessly fit into our busy schedules and lifestyles. Isn’t it interesting how personal and cultural biases can shape our views of these fruits?'],\n",
       " ['B',\n",
       "  \"Absolutely, personal experiences and cultural contexts heavily shape our preferences. It's fascinating how nostalgia can affect our attachment to a particular fruit. While bananas certainly have their moments of cultural significance, I would argue that oranges have a broader appeal in social settings.\\n\\nThe juicing trend, for example, has led to a resurgence in the popularity of oranges, with fresh-squeezed orange juice often served at brunches and gatherings, often viewed as a healthy indulgence. Their vibrant color and invigorating scent can uplift the mood, making them a favorite for celebrations and health-oriented events.\\n\\nMoreover, the health benefits we discussed earlier position oranges as a go-to choice for people aiming to stay fit. They are often featured in wellness workshops and are synonymous with a healthy lifestyle, further solidifying their place in the cultural narrative surrounding food.\\n\\nWhile I agree that bananas offer convenience and nostalgic value, I believe the vibrant and dynamic nature of oranges—from their culinary versatility to their health benefits—makes them a worthy champion in the fruit debate. How do you see the balance between convenience and cultural significance shaping our choices in fruits moving forward?\"],\n",
       " ['A',\n",
       "  \"You've raised some compelling points about the cultural significance of oranges, especially in social settings and wellness trends. However, I would argue that the balance between convenience and cultural significance can vary greatly depending on individual lifestyles and experiences.\\n\\nIn our fast-paced world, many people appreciate the simplicity and flexibility that bananas offer. Their ready-to-eat nature means they can easily fit into busy schedules, whether for breakfast, a snack on the go, or a post-workout refuel. This convenience often appeals to those who prioritize efficiency, especially in urban environments where time is at a premium.\\n\\nHowever, I see where you're coming from regarding the cultural narrative of health that surrounds oranges. They do embody a certain vibrancy and celebratory quality that enhances gatherings and promotes a wellness lifestyle. That said, as the health-conscious movement continues to evolve, I think there is potential for more creativity around bananas, such as their incorporation into health shakes, smoothies, and even as a natural sweetener in various dishes.\\n\\nUltimately, I believe that our fruit choices will continue to evolve, reflecting changes in societal norms, health trends, and personal preferences. As people seek out convenience without sacrificing health benefits, bananas, with their myriad uses and ease of access, will continue to hold their ground alongside oranges, appealing to a diverse audience. How do you envision the fruit landscape changing over the next few years?\"],\n",
       " ['B',\n",
       "  \"Your insights into the balance between convenience and cultural significance are well taken. As lifestyles change and the fast-paced urban environment becomes more prevalent, the appeal of bananas is likely to remain strong due to their practicality. They provide a quick and nutritious option that suits the needs of busy individuals.\\n\\nLooking ahead, I can envision a growing trend where both fruits capitalize on their strengths. Bananas may gain more recognition in health-conscious circles as people explore innovative ways to integrate them into diets—think banana flour in gluten-free baking or the continued popularity of smoothie bowls. This could further elevate their status in the health food market.\\n\\nOn the other hand, oranges may continue to strengthen their presence in the cultural and wellness sectors, especially with the focus on fresh, nutrient-rich options. The rise of artisanal juice bars and emphasis on whole food diets might keep oranges in the spotlight, as they resonate with those seeking holistic health benefits.\\n\\nUltimately, I see a future where the fruit landscape becomes more inclusive, celebrating a diversity of fruits as people's understanding of nutrition and convenience evolves. The popularity of various fruits will likely depend on personal lifestyle choices, regional availability, and health trends, allowing both bananas and oranges to coexist and thrive in their own right. In this context, it will be interesting to see how marketing and consumer preferences further shape our fruit consumption patterns. What do you think will be the driving forces influencing fruit choices in the coming years?\"]]"
      ]
     },
     "execution_count": 5,
     "metadata": {},
     "output_type": "execute_result"
    }
   ],
   "source": [
    "m.history"
   ]
  },
  {
   "cell_type": "code",
   "execution_count": 6,
   "metadata": {},
   "outputs": [
    {
     "data": {
      "text/plain": [
       "[{'role': 'system',\n",
       "  'content': 'You are a judge judging a debate between A and B on fruits. Below is the text of the debate.'},\n",
       " {'role': 'user',\n",
       "  'content': 'B: Oranges are superior to bananas due to their higher vitamin C content, refreshing flavor, and versatility in culinary uses.'},\n",
       " {'role': 'user',\n",
       "  'content': 'A: In the debate on fruits, I firmly believe that bananas are superior to oranges due to their versatility, convenience, and nutritional benefits.'},\n",
       " {'role': 'user',\n",
       "  'content': \"B: While bananas are indeed convenient and nutritious, oranges have their own advantages. For starters, the high vitamin C content in oranges not only boosts the immune system but also contributes to skin health. Plus, oranges can be enjoyed as juice, in salads, or as a snack, adding to their culinary versatility. Wouldn't you agree that the refreshing taste of a juicy orange on a hot day is hard to beat?\"},\n",
       " {'role': 'user',\n",
       "  'content': \"A: I can see your points about oranges, but I would argue that bananas offer unique advantages that make them equally compelling. Firstly, bananas are packed with potassium, which is essential for heart health and muscle function. They also provide a quick energy boost due to their natural sugars, making them an ideal snack for athletes or anyone needing a quick pick-me-up. Additionally, bananas come in their own convenient packaging, making them an exceptionally portable and mess-free option. While the refreshing taste of an orange is enjoyable, the creamy texture and natural sweetness of a ripe banana can be just as satisfying, especially when you're on the go.\"},\n",
       " {'role': 'user',\n",
       "  'content': \"A: Moreover, bananas are incredibly versatile in their own right. They can be used in smoothies, baking, or even as a topping for cereals and yogurt, providing both flavor and nutrition in various dishes. Plus, unlike oranges, bananas don't require peeling or cutting, making them a hassle-free snack option. In terms of culinary uses, I believe bananas match, if not surpass, the versatility of oranges. Wouldn't you agree that the convenience of a banana is a significant advantage?\"},\n",
       " {'role': 'user',\n",
       "  'content': \"A: You make valid points about the convenience and versatility of bananas, but let's consider the broader health benefits. While bananas do provide potassium, oranges are rich in antioxidants and fiber, promoting digestive health. Furthermore, the natural sugars in bananas can lead to a quick spike in energy, which some may find undesirable compared to the sustained energy release from the complex carbohydrates in foods like oranges. \\n\\nAdditionally, oranges are an excellent source of hydration and can be far more refreshing, particularly during summer days. The juicy segments almost provide a burst of hydration that is unmatched. And while bananas may be convenient, the aesthetic appeal of a bright, vibrant orange and the satisfaction of peeling one can enhance the eating experience as well. What are your thoughts on these aspects?\"},\n",
       " {'role': 'user',\n",
       "  'content': \"A: You certainly bring up some great points, especially regarding the health benefits and the refreshing nature of oranges. However, I still maintain that the sheer convenience of bananas cannot be overlooked. They require no cutting or utensils, making them a perfect on-the-go snack for busy lifestyles. \\n\\nMoreover, bananas have a long shelf life compared to oranges, which can spoil faster if not consumed promptly. In terms of culinary applications, while oranges can add zest and acidity to dishes, bananas can provide creaminess when blended and moisture in baking, such as in banana bread or muffins.\\n\\nAdditionally, let's not forget the audience appeal; bananas tend to be a favorite among children due to their mild sweetness and fun shape. In terms of accessibility and universal popularity, bananas often come out on top. Wouldn't you agree that these factors make bananas a strong contender in the fruit debate?\"},\n",
       " {'role': 'user',\n",
       "  'content': \"A: While I acknowledge the appeal of bananas, especially for children, it's essential to consider the unique characteristics of oranges that cater to a wider range of preferences. The tangy flavor of oranges can enhance various dishes, providing a refreshing contrast in salads, desserts, and even savory dishes. \\n\\nMoreover, oranges are often regarded as a symbol of health and vitality, and their high water content can make them a great option for hydration, especially in summer. They also have various varieties, such as blood oranges and navel oranges, which offer different flavor profiles and culinary uses, adding to their versatility.\\n\\nLet's not overlook the social aspect of fruits as well. Enjoying a freshly squeezed orange juice at breakfast or sharing a bowl of orange slices at gatherings adds to the fruit's cultural experience. While bananas are mighty in their own right, the vibrant and interactive nature of oranges offers an engaging experience that is hard to replicate. What do you think about the cultural and social dimensions of enjoying oranges versus bananas?\"},\n",
       " {'role': 'user',\n",
       "  'content': 'B: You make an intriguing point about the social and cultural aspects of fruit consumption. Oranges certainly shine in that context, as they are often associated with festive gatherings and health-conscious lifestyles. The experience of sharing orange slices or enjoying fresh juice can create memorable moments.\\n\\nHowever, I would argue that bananas also carry their own cultural significance. For instance, they are frequently featured in childhood memories, such as packed school lunches or snacks after sports activities. Their popularity in various cuisines—from banana pancakes in the United States to fried plantains in Latin America—demonstrates their cultural versatility as well.\\n\\nFurthermore, both fruits have their unique ways of bringing people together. For bananas, consider the trend of banana bread baking during challenging times, where people shared recipes and creations online. This highlights that bananas can also create a sense of community.\\n\\nUltimately, both fruits have their cultural merits, but from a convenience, nutrition, and accessibility perspective, bananas maintain a strong position. They can effortlessly fit into our busy schedules and lifestyles. Isn’t it interesting how personal and cultural biases can shape our views of these fruits?'},\n",
       " {'role': 'user',\n",
       "  'content': \"B: Absolutely, personal experiences and cultural contexts heavily shape our preferences. It's fascinating how nostalgia can affect our attachment to a particular fruit. While bananas certainly have their moments of cultural significance, I would argue that oranges have a broader appeal in social settings.\\n\\nThe juicing trend, for example, has led to a resurgence in the popularity of oranges, with fresh-squeezed orange juice often served at brunches and gatherings, often viewed as a healthy indulgence. Their vibrant color and invigorating scent can uplift the mood, making them a favorite for celebrations and health-oriented events.\\n\\nMoreover, the health benefits we discussed earlier position oranges as a go-to choice for people aiming to stay fit. They are often featured in wellness workshops and are synonymous with a healthy lifestyle, further solidifying their place in the cultural narrative surrounding food.\\n\\nWhile I agree that bananas offer convenience and nostalgic value, I believe the vibrant and dynamic nature of oranges—from their culinary versatility to their health benefits—makes them a worthy champion in the fruit debate. How do you see the balance between convenience and cultural significance shaping our choices in fruits moving forward?\"},\n",
       " {'role': 'user',\n",
       "  'content': \"A: You've raised some compelling points about the cultural significance of oranges, especially in social settings and wellness trends. However, I would argue that the balance between convenience and cultural significance can vary greatly depending on individual lifestyles and experiences.\\n\\nIn our fast-paced world, many people appreciate the simplicity and flexibility that bananas offer. Their ready-to-eat nature means they can easily fit into busy schedules, whether for breakfast, a snack on the go, or a post-workout refuel. This convenience often appeals to those who prioritize efficiency, especially in urban environments where time is at a premium.\\n\\nHowever, I see where you're coming from regarding the cultural narrative of health that surrounds oranges. They do embody a certain vibrancy and celebratory quality that enhances gatherings and promotes a wellness lifestyle. That said, as the health-conscious movement continues to evolve, I think there is potential for more creativity around bananas, such as their incorporation into health shakes, smoothies, and even as a natural sweetener in various dishes.\\n\\nUltimately, I believe that our fruit choices will continue to evolve, reflecting changes in societal norms, health trends, and personal preferences. As people seek out convenience without sacrificing health benefits, bananas, with their myriad uses and ease of access, will continue to hold their ground alongside oranges, appealing to a diverse audience. How do you envision the fruit landscape changing over the next few years?\"},\n",
       " {'role': 'user',\n",
       "  'content': \"B: Your insights into the balance between convenience and cultural significance are well taken. As lifestyles change and the fast-paced urban environment becomes more prevalent, the appeal of bananas is likely to remain strong due to their practicality. They provide a quick and nutritious option that suits the needs of busy individuals.\\n\\nLooking ahead, I can envision a growing trend where both fruits capitalize on their strengths. Bananas may gain more recognition in health-conscious circles as people explore innovative ways to integrate them into diets—think banana flour in gluten-free baking or the continued popularity of smoothie bowls. This could further elevate their status in the health food market.\\n\\nOn the other hand, oranges may continue to strengthen their presence in the cultural and wellness sectors, especially with the focus on fresh, nutrient-rich options. The rise of artisanal juice bars and emphasis on whole food diets might keep oranges in the spotlight, as they resonate with those seeking holistic health benefits.\\n\\nUltimately, I see a future where the fruit landscape becomes more inclusive, celebrating a diversity of fruits as people's understanding of nutrition and convenience evolves. The popularity of various fruits will likely depend on personal lifestyle choices, regional availability, and health trends, allowing both bananas and oranges to coexist and thrive in their own right. In this context, it will be interesting to see how marketing and consumer preferences further shape our fruit consumption patterns. What do you think will be the driving forces influencing fruit choices in the coming years?\"},\n",
       " {'role': 'system',\n",
       "  'content': 'Your analysis starts now. Please end your analysis with the name of the winner on a line by itself.'}]"
      ]
     },
     "execution_count": 6,
     "metadata": {},
     "output_type": "execute_result"
    }
   ],
   "source": [
    "m.generate_ranking_prompt(\"You are a judge judging a debate between <agent_1> and <agent_2> on <topic>. Below is the text of the debate.\")"
   ]
  },
  {
   "cell_type": "code",
   "execution_count": 7,
   "metadata": {},
   "outputs": [
    {
     "name": "stdout",
     "output_type": "stream",
     "text": [
      "In this debate between A and B regarding the merits of bananas versus oranges, both participants present solid arguments that highlight the strengths of their respective fruits. \n",
      "\n",
      "B emphasizes oranges' higher vitamin C content, versatility in culinary uses, and refreshing experience, particularly in social settings. They also address the cultural significance of oranges, especially in health-conscious trends, such as juicing and wellness workshops. This positions oranges as a symbol of vitality and a favored choice for gatherings and health-oriented diets.\n",
      "\n",
      "On the other hand, A counters with the convenience, nutritional benefits, and culinary versatility of bananas. They argue that bananas' ease of consumption, long shelf life, and ability to quickly provide energy make them particularly appealing in today’s fast-paced lifestyle. A also brings up the cultural connections to bananas, such as their presence in childhood memories and their adaptability in various dishes, reinforcing their significance in everyday life.\n",
      "\n",
      "Both debaters acknowledge the influence of personal experiences on fruit preferences and the potential for both fruits to thrive in the coming years as health awareness and individual lifestyles evolve. Ultimately, they highlight that consumer preferences will likely depend on a mix of convenience, health trends, and cultural resonance.\n",
      "\n",
      "Despite A's strong arguments regarding convenience and versatility, B effectively connects oranges to broader health trends and the social aspects of fruit consumption. The cultural significance of oranges in promoting health and wellness, combined with their refreshing nature, provides a compelling case for their superiority in certain contexts.\n",
      "\n",
      "Given the comprehensive arguments presented and the connection made with health and social significance, I would conclude that B's emphasis on the broader appeal and health benefits of oranges, coupled with their arguments about social experiences, gives them the edge in this debate.\n",
      "\n",
      "**B**\n"
     ]
    }
   ],
   "source": [
    "m.generate_ranking(\"You are a judge judging a debate between <agent_1> and <agent_2> on <topic>. Below is the text of the debate.\", gpt_generate)"
   ]
  },
  {
   "cell_type": "code",
   "execution_count": 8,
   "metadata": {},
   "outputs": [
    {
     "data": {
      "text/plain": [
       "''"
      ]
     },
     "execution_count": 8,
     "metadata": {},
     "output_type": "execute_result"
    }
   ],
   "source": [
    "m.winner"
   ]
  },
  {
   "cell_type": "code",
   "execution_count": 9,
   "metadata": {},
   "outputs": [
    {
     "data": {
      "text/plain": [
       "[{'role': 'system',\n",
       "  'content': 'You are a debate coach providing feedback to  on their debate skills. Here is a debate between them and B on fruits for reference.'},\n",
       " {'role': 'user',\n",
       "  'content': 'B: Oranges are superior to bananas due to their higher vitamin C content, refreshing flavor, and versatility in culinary uses.'},\n",
       " {'role': 'user',\n",
       "  'content': 'A: In the debate on fruits, I firmly believe that bananas are superior to oranges due to their versatility, convenience, and nutritional benefits.'},\n",
       " {'role': 'user',\n",
       "  'content': \"B: While bananas are indeed convenient and nutritious, oranges have their own advantages. For starters, the high vitamin C content in oranges not only boosts the immune system but also contributes to skin health. Plus, oranges can be enjoyed as juice, in salads, or as a snack, adding to their culinary versatility. Wouldn't you agree that the refreshing taste of a juicy orange on a hot day is hard to beat?\"},\n",
       " {'role': 'user',\n",
       "  'content': \"A: I can see your points about oranges, but I would argue that bananas offer unique advantages that make them equally compelling. Firstly, bananas are packed with potassium, which is essential for heart health and muscle function. They also provide a quick energy boost due to their natural sugars, making them an ideal snack for athletes or anyone needing a quick pick-me-up. Additionally, bananas come in their own convenient packaging, making them an exceptionally portable and mess-free option. While the refreshing taste of an orange is enjoyable, the creamy texture and natural sweetness of a ripe banana can be just as satisfying, especially when you're on the go.\"},\n",
       " {'role': 'user',\n",
       "  'content': \"A: Moreover, bananas are incredibly versatile in their own right. They can be used in smoothies, baking, or even as a topping for cereals and yogurt, providing both flavor and nutrition in various dishes. Plus, unlike oranges, bananas don't require peeling or cutting, making them a hassle-free snack option. In terms of culinary uses, I believe bananas match, if not surpass, the versatility of oranges. Wouldn't you agree that the convenience of a banana is a significant advantage?\"},\n",
       " {'role': 'user',\n",
       "  'content': \"A: You make valid points about the convenience and versatility of bananas, but let's consider the broader health benefits. While bananas do provide potassium, oranges are rich in antioxidants and fiber, promoting digestive health. Furthermore, the natural sugars in bananas can lead to a quick spike in energy, which some may find undesirable compared to the sustained energy release from the complex carbohydrates in foods like oranges. \\n\\nAdditionally, oranges are an excellent source of hydration and can be far more refreshing, particularly during summer days. The juicy segments almost provide a burst of hydration that is unmatched. And while bananas may be convenient, the aesthetic appeal of a bright, vibrant orange and the satisfaction of peeling one can enhance the eating experience as well. What are your thoughts on these aspects?\"},\n",
       " {'role': 'user',\n",
       "  'content': \"A: You certainly bring up some great points, especially regarding the health benefits and the refreshing nature of oranges. However, I still maintain that the sheer convenience of bananas cannot be overlooked. They require no cutting or utensils, making them a perfect on-the-go snack for busy lifestyles. \\n\\nMoreover, bananas have a long shelf life compared to oranges, which can spoil faster if not consumed promptly. In terms of culinary applications, while oranges can add zest and acidity to dishes, bananas can provide creaminess when blended and moisture in baking, such as in banana bread or muffins.\\n\\nAdditionally, let's not forget the audience appeal; bananas tend to be a favorite among children due to their mild sweetness and fun shape. In terms of accessibility and universal popularity, bananas often come out on top. Wouldn't you agree that these factors make bananas a strong contender in the fruit debate?\"},\n",
       " {'role': 'user',\n",
       "  'content': \"A: While I acknowledge the appeal of bananas, especially for children, it's essential to consider the unique characteristics of oranges that cater to a wider range of preferences. The tangy flavor of oranges can enhance various dishes, providing a refreshing contrast in salads, desserts, and even savory dishes. \\n\\nMoreover, oranges are often regarded as a symbol of health and vitality, and their high water content can make them a great option for hydration, especially in summer. They also have various varieties, such as blood oranges and navel oranges, which offer different flavor profiles and culinary uses, adding to their versatility.\\n\\nLet's not overlook the social aspect of fruits as well. Enjoying a freshly squeezed orange juice at breakfast or sharing a bowl of orange slices at gatherings adds to the fruit's cultural experience. While bananas are mighty in their own right, the vibrant and interactive nature of oranges offers an engaging experience that is hard to replicate. What do you think about the cultural and social dimensions of enjoying oranges versus bananas?\"},\n",
       " {'role': 'user',\n",
       "  'content': 'B: You make an intriguing point about the social and cultural aspects of fruit consumption. Oranges certainly shine in that context, as they are often associated with festive gatherings and health-conscious lifestyles. The experience of sharing orange slices or enjoying fresh juice can create memorable moments.\\n\\nHowever, I would argue that bananas also carry their own cultural significance. For instance, they are frequently featured in childhood memories, such as packed school lunches or snacks after sports activities. Their popularity in various cuisines—from banana pancakes in the United States to fried plantains in Latin America—demonstrates their cultural versatility as well.\\n\\nFurthermore, both fruits have their unique ways of bringing people together. For bananas, consider the trend of banana bread baking during challenging times, where people shared recipes and creations online. This highlights that bananas can also create a sense of community.\\n\\nUltimately, both fruits have their cultural merits, but from a convenience, nutrition, and accessibility perspective, bananas maintain a strong position. They can effortlessly fit into our busy schedules and lifestyles. Isn’t it interesting how personal and cultural biases can shape our views of these fruits?'},\n",
       " {'role': 'user',\n",
       "  'content': \"B: Absolutely, personal experiences and cultural contexts heavily shape our preferences. It's fascinating how nostalgia can affect our attachment to a particular fruit. While bananas certainly have their moments of cultural significance, I would argue that oranges have a broader appeal in social settings.\\n\\nThe juicing trend, for example, has led to a resurgence in the popularity of oranges, with fresh-squeezed orange juice often served at brunches and gatherings, often viewed as a healthy indulgence. Their vibrant color and invigorating scent can uplift the mood, making them a favorite for celebrations and health-oriented events.\\n\\nMoreover, the health benefits we discussed earlier position oranges as a go-to choice for people aiming to stay fit. They are often featured in wellness workshops and are synonymous with a healthy lifestyle, further solidifying their place in the cultural narrative surrounding food.\\n\\nWhile I agree that bananas offer convenience and nostalgic value, I believe the vibrant and dynamic nature of oranges—from their culinary versatility to their health benefits—makes them a worthy champion in the fruit debate. How do you see the balance between convenience and cultural significance shaping our choices in fruits moving forward?\"},\n",
       " {'role': 'user',\n",
       "  'content': \"A: You've raised some compelling points about the cultural significance of oranges, especially in social settings and wellness trends. However, I would argue that the balance between convenience and cultural significance can vary greatly depending on individual lifestyles and experiences.\\n\\nIn our fast-paced world, many people appreciate the simplicity and flexibility that bananas offer. Their ready-to-eat nature means they can easily fit into busy schedules, whether for breakfast, a snack on the go, or a post-workout refuel. This convenience often appeals to those who prioritize efficiency, especially in urban environments where time is at a premium.\\n\\nHowever, I see where you're coming from regarding the cultural narrative of health that surrounds oranges. They do embody a certain vibrancy and celebratory quality that enhances gatherings and promotes a wellness lifestyle. That said, as the health-conscious movement continues to evolve, I think there is potential for more creativity around bananas, such as their incorporation into health shakes, smoothies, and even as a natural sweetener in various dishes.\\n\\nUltimately, I believe that our fruit choices will continue to evolve, reflecting changes in societal norms, health trends, and personal preferences. As people seek out convenience without sacrificing health benefits, bananas, with their myriad uses and ease of access, will continue to hold their ground alongside oranges, appealing to a diverse audience. How do you envision the fruit landscape changing over the next few years?\"},\n",
       " {'role': 'user',\n",
       "  'content': \"B: Your insights into the balance between convenience and cultural significance are well taken. As lifestyles change and the fast-paced urban environment becomes more prevalent, the appeal of bananas is likely to remain strong due to their practicality. They provide a quick and nutritious option that suits the needs of busy individuals.\\n\\nLooking ahead, I can envision a growing trend where both fruits capitalize on their strengths. Bananas may gain more recognition in health-conscious circles as people explore innovative ways to integrate them into diets—think banana flour in gluten-free baking or the continued popularity of smoothie bowls. This could further elevate their status in the health food market.\\n\\nOn the other hand, oranges may continue to strengthen their presence in the cultural and wellness sectors, especially with the focus on fresh, nutrient-rich options. The rise of artisanal juice bars and emphasis on whole food diets might keep oranges in the spotlight, as they resonate with those seeking holistic health benefits.\\n\\nUltimately, I see a future where the fruit landscape becomes more inclusive, celebrating a diversity of fruits as people's understanding of nutrition and convenience evolves. The popularity of various fruits will likely depend on personal lifestyle choices, regional availability, and health trends, allowing both bananas and oranges to coexist and thrive in their own right. In this context, it will be interesting to see how marketing and consumer preferences further shape our fruit consumption patterns. What do you think will be the driving forces influencing fruit choices in the coming years?\"},\n",
       " {'role': 'system',\n",
       "  'content': \"Judge: In this debate between A and B regarding the merits of bananas versus oranges, both participants present solid arguments that highlight the strengths of their respective fruits. \\n\\nB emphasizes oranges' higher vitamin C content, versatility in culinary uses, and refreshing experience, particularly in social settings. They also address the cultural significance of oranges, especially in health-conscious trends, such as juicing and wellness workshops. This positions oranges as a symbol of vitality and a favored choice for gatherings and health-oriented diets.\\n\\nOn the other hand, A counters with the convenience, nutritional benefits, and culinary versatility of bananas. They argue that bananas' ease of consumption, long shelf life, and ability to quickly provide energy make them particularly appealing in today’s fast-paced lifestyle. A also brings up the cultural connections to bananas, such as their presence in childhood memories and their adaptability in various dishes, reinforcing their significance in everyday life.\\n\\nBoth debaters acknowledge the influence of personal experiences on fruit preferences and the potential for both fruits to thrive in the coming years as health awareness and individual lifestyles evolve. Ultimately, they highlight that consumer preferences will likely depend on a mix of convenience, health trends, and cultural resonance.\\n\\nDespite A's strong arguments regarding convenience and versatility, B effectively connects oranges to broader health trends and the social aspects of fruit consumption. The cultural significance of oranges in promoting health and wellness, combined with their refreshing nature, provides a compelling case for their superiority in certain contexts.\\n\\nGiven the comprehensive arguments presented and the connection made with health and social significance, I would conclude that B's emphasis on the broader appeal and health benefits of oranges, coupled with their arguments about social experiences, gives them the edge in this debate.\\n\\n**B**\"},\n",
       " {'role': 'system',\n",
       "  'content': 'The agent that convince the other of their perspective was declared to be , not .'},\n",
       " {'role': 'system',\n",
       "  'content': 'Please provide up to 1 sentence of feedback for  on how to better convince the other of their perspective. Do not mention agent names or topics.'}]"
      ]
     },
     "execution_count": 9,
     "metadata": {},
     "output_type": "execute_result"
    }
   ],
   "source": [
    "m.generate_feedback_prompt(\"You are a debate coach providing feedback to <loser> on their debate skills. Here is a debate between them and <agent_2> on <topic> for reference.\")"
   ]
  },
  {
   "cell_type": "code",
   "execution_count": 11,
   "metadata": {},
   "outputs": [
    {
     "name": "stdout",
     "output_type": "stream",
     "text": [
      "To strengthen your argument, consider incorporating more concrete examples or studies that highlight the specific health benefits and culinary versatility of your perspective, while also addressing potential counterarguments more directly to reinforce your position.\n"
     ]
    }
   ],
   "source": [
    "m.generate_feedback(\"You are a debate coach providing feedback to <loser> on their debate skills. Here is a debate between them and <agent_2> on <topic> for reference.\", gpt_generate)"
   ]
  }
 ],
 "metadata": {
  "kernelspec": {
   "display_name": "rli_test",
   "language": "python",
   "name": "python3"
  },
  "language_info": {
   "codemirror_mode": {
    "name": "ipython",
    "version": 3
   },
   "file_extension": ".py",
   "mimetype": "text/x-python",
   "name": "python",
   "nbconvert_exporter": "python",
   "pygments_lexer": "ipython3",
   "version": "3.13.0"
  }
 },
 "nbformat": 4,
 "nbformat_minor": 2
}
